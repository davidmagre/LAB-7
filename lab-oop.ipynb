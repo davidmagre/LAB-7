{
 "cells": [
  {
   "cell_type": "markdown",
   "metadata": {},
   "source": [
    "# OOP\n",
    "\n",
    "In this lab we will put into practice what we have seen in class.\n",
    "\n",
    "`NOTE: It is split in two different Exercise: Do NOT try to change the order as the idea is to build a class from scratch using all the steps on each exercise` \n",
    "\n",
    "Good Luck! "
   ]
  },
  {
   "cell_type": "markdown",
   "metadata": {},
   "source": [
    "## Exercise 1: Car Class\n",
    "\n",
    "Use the origina code below to start with the exercise: "
   ]
  },
  {
   "cell_type": "code",
   "execution_count": 4,
   "metadata": {},
   "outputs": [],
   "source": [
    "class Car:\n",
    "    def __init__(self, color): \n",
    "        self.color = color"
   ]
  },
  {
   "cell_type": "markdown",
   "metadata": {},
   "source": [
    "### 1.1: Basic Info\n",
    "\n",
    "- This class Car is incomplete. We need to have more attributes, in this case we will need the user to add the Brand of the car (p.e. Fiat, Volvo, etc\") and the number of wheels (always 4). Build the first function called info, where it should print all the information of the car.\n",
    "- Try using the upper, capitalize or lower methods of strings to make the print look realistic. "
   ]
  },
  {
   "cell_type": "code",
   "execution_count": 5,
   "metadata": {},
   "outputs": [],
   "source": [
    "# Your Code here\n",
    "class Car:\n",
    "    def __init__(self, color, brand, num_of_wheels=4):\n",
    "       self.color=color.lower()\n",
    "       self.brand=brand.lower()\n",
    "       self.num_of_wheels=4\n",
    "\n",
    "    def info(self):\n",
    "        print(f\"Color: {self.color}\")\n",
    "        print(f\"Brand {self.brand}\")\n",
    "        print(f\"Number of wheels: {self.num_of_wheels}\")"
   ]
  },
  {
   "cell_type": "code",
   "execution_count": 6,
   "metadata": {},
   "outputs": [
    {
     "name": "stdout",
     "output_type": "stream",
     "text": [
      "Color: red\n",
      "Brand bmw\n",
      "Number of wheels: 4\n"
     ]
    }
   ],
   "source": [
    "# try your code with this example\n",
    "bmw=Car(\"red\", \"BMW\")\n",
    "bmw.info()"
   ]
  },
  {
   "cell_type": "markdown",
   "metadata": {},
   "source": [
    "### 1.2: Turn On/Off\n",
    "\n",
    "- Set a new attribute called `engine`. In it there will only be two options, ON and OFF. Originally, this new attribute will be OFF as the car engine will be OFF. \n",
    "- Create two more methods called `encender` and `apagar`. Take into consideration that if the car is ON and you try the encender, a message should be printed: \"No se puede encender "
   ]
  },
  {
   "cell_type": "code",
   "execution_count": 7,
   "metadata": {},
   "outputs": [],
   "source": [
    "# Your Code here: \n",
    "class Car:\n",
    "    def __init__(self, color, brand, num_of_wheels=4):\n",
    "       self.color=color.lower()\n",
    "       self.brand=brand.lower()\n",
    "       self.num_of_wheels=4\n",
    "       self.engine=\"OFF\"\n",
    "\n",
    "    def info(self):\n",
    "        print(f\"Color: {self.color}\")\n",
    "        print(f\"Brand {self.brand}\")\n",
    "        print(f\"Number of wheels: {self.num_of_wheels}\")\n",
    "        print(f\"Engine: {self.engine}\")\n",
    "\n",
    "    def encender(self):\n",
    "        if self.engine == \"OFF\":\n",
    "            self.engine = \"ON\"\n",
    "            print(\"Car engine is now ON.\")\n",
    "        else:\n",
    "            print(\"No se puede encender el motor. El motor ya está encendido.\")\n",
    "\n",
    "    def apagar(self):\n",
    "        if self.engine == \"ON\":\n",
    "            self.engine = \"OFF\"\n",
    "            print(\"Car engine is now OFF.\")\n",
    "        else:\n",
    "            print(\"No se puede apagar el motor. El motor ya está apagado.\")\n",
    "\n",
    "    "
   ]
  },
  {
   "cell_type": "code",
   "execution_count": 9,
   "metadata": {},
   "outputs": [],
   "source": [
    "car1=Car(\"Blue\", \"Ferrari\")"
   ]
  },
  {
   "cell_type": "code",
   "execution_count": 17,
   "metadata": {},
   "outputs": [
    {
     "name": "stdout",
     "output_type": "stream",
     "text": [
      "Color: blue\n",
      "Brand ferrari\n",
      "Number of wheels: 4\n",
      "Engine: OFF\n"
     ]
    }
   ],
   "source": [
    "car1.info()"
   ]
  },
  {
   "cell_type": "code",
   "execution_count": 14,
   "metadata": {},
   "outputs": [
    {
     "name": "stdout",
     "output_type": "stream",
     "text": [
      "No se puede encender el motor. El motor ya está encendido.\n"
     ]
    }
   ],
   "source": [
    "car1.encender()"
   ]
  },
  {
   "cell_type": "code",
   "execution_count": 16,
   "metadata": {},
   "outputs": [
    {
     "name": "stdout",
     "output_type": "stream",
     "text": [
      "Car engine is now OFF.\n"
     ]
    }
   ],
   "source": [
    "car1.apagar()"
   ]
  },
  {
   "cell_type": "markdown",
   "metadata": {},
   "source": [
    "### 1.3 Accelerate/reduce/break\n",
    "\n",
    "Here we are going to set a new attribute: `speed`. The original speed of each vehicle must be 0. We will then add three methods: acelerar, reducir and frenar. `acelerar` will increase the speed, `reducir` will reduce it and `frenar` will take it back to 0 again. \n",
    "Extra conditions: \n",
    "\n",
    "Try tu use the logic to know some basic interactions between this methods and the methods seen in 1.2. First try it yourself before revealing the hidden information!\n",
    "\n",
    "\n",
    "<details>\n",
    "    <summary> Expand the box to see the logic between methods </summary>\n",
    "    \n",
    "- The engine must be ON to use this 3 new method\n",
    "\n",
    "- If the speed is different to 0, you can not use the `apagar` method\n",
    "\n",
    "- If you use `reducir` to a number that makes the speed in negative numbers, you can not use reducir.  \n",
    "\n",
    "- To avoid using the `__dict__`, add the speed and the engine state as new info in the `info` method\n",
    "\n",
    "- For both `acelerar` and `reducir`, everytime you use this method you must send an argument (how much is the car accelerating and reducing everytime you call this function)\n",
    "\n",
    "</details>\n"
   ]
  },
  {
   "cell_type": "code",
   "execution_count": 33,
   "metadata": {},
   "outputs": [],
   "source": [
    "# Your Code here: \n",
    "class Car:\n",
    "    def __init__(self, color, brand, num_of_wheels=4):\n",
    "       self.color=color.lower()\n",
    "       self.brand=brand.lower()\n",
    "       self.num_of_wheels=4\n",
    "       self.engine=\"OFF\"\n",
    "       self.speed=0\n",
    "\n",
    "    def info(self):\n",
    "        print(f\"Color: {self.color}\")\n",
    "        print(f\"Brand {self.brand}\")\n",
    "        print(f\"Number of wheels: {self.num_of_wheels}\")\n",
    "        print(f\"Engine: {self.engine}\")\n",
    "        print(f\"Velocidad actual: {self.speed}\")\n",
    "\n",
    "    def encender(self):\n",
    "        if self.engine == \"OFF\":\n",
    "            self.engine = \"ON\"\n",
    "            print(\"Car engine is now ON.\")\n",
    "        else:\n",
    "            print(\"No se puede encender el motor. El motor ya está encendido.\")\n",
    "\n",
    "    def apagar(self):\n",
    "        if self.engine == \"ON\":\n",
    "            self.engine = \"OFF\"\n",
    "            print(\"Car engine is now OFF.\")\n",
    "        else:\n",
    "            print(\"No se puede apagar el motor. El motor ya está apagado.\")\n",
    "\n",
    "    def acelerar(self, number):\n",
    "        self.speed+=number\n",
    "        print(f\"Has acelerado! Tu velocidad actual es de: {self.speed}\")\n",
    "\n",
    "    def reducir(self, number):\n",
    "        self.speed-=number\n",
    "        print(f\"Has reducido! Tu velocidad actual es de: {self.speed}\")\n",
    "\n",
    "    def frenar(self):\n",
    "        self.speed=0\n",
    "        print(f\"Has frenado! Tu velocidad actual es de: {self.speed}\")\n",
    "    "
   ]
  },
  {
   "cell_type": "code",
   "execution_count": 34,
   "metadata": {},
   "outputs": [],
   "source": [
    "#Try combos with this same car!\n",
    "bmw=Car(\"rojo\", \"BMW\")"
   ]
  },
  {
   "cell_type": "code",
   "execution_count": 35,
   "metadata": {},
   "outputs": [
    {
     "name": "stdout",
     "output_type": "stream",
     "text": [
      "Color: rojo\n",
      "Brand bmw\n",
      "Number of wheels: 4\n",
      "Engine: OFF\n",
      "Velocidad actual: 0\n"
     ]
    }
   ],
   "source": [
    "bmw.info()"
   ]
  },
  {
   "cell_type": "code",
   "execution_count": 36,
   "metadata": {},
   "outputs": [
    {
     "name": "stdout",
     "output_type": "stream",
     "text": [
      "Car engine is now ON.\n"
     ]
    }
   ],
   "source": [
    "bmw.encender()"
   ]
  },
  {
   "cell_type": "code",
   "execution_count": 37,
   "metadata": {},
   "outputs": [
    {
     "name": "stdout",
     "output_type": "stream",
     "text": [
      "Has acelerado! Tu velocidad actual es de: 5\n"
     ]
    }
   ],
   "source": [
    "bmw.acelerar(5)"
   ]
  },
  {
   "cell_type": "code",
   "execution_count": 38,
   "metadata": {},
   "outputs": [
    {
     "name": "stdout",
     "output_type": "stream",
     "text": [
      "Has reducido! Tu velocidad actual es de: 1\n"
     ]
    }
   ],
   "source": [
    "bmw.reducir(4)"
   ]
  },
  {
   "cell_type": "code",
   "execution_count": 39,
   "metadata": {},
   "outputs": [
    {
     "name": "stdout",
     "output_type": "stream",
     "text": [
      "Color: rojo\n",
      "Brand bmw\n",
      "Number of wheels: 4\n",
      "Engine: ON\n",
      "Velocidad actual: 1\n"
     ]
    }
   ],
   "source": [
    "bmw.info()"
   ]
  },
  {
   "cell_type": "code",
   "execution_count": 40,
   "metadata": {},
   "outputs": [
    {
     "name": "stdout",
     "output_type": "stream",
     "text": [
      "Car engine is now OFF.\n"
     ]
    }
   ],
   "source": [
    "bmw.apagar()"
   ]
  },
  {
   "cell_type": "code",
   "execution_count": 41,
   "metadata": {},
   "outputs": [
    {
     "name": "stdout",
     "output_type": "stream",
     "text": [
      "Has frenado! Tu velocidad actual es de: 0\n"
     ]
    }
   ],
   "source": [
    "bmw.frenar()"
   ]
  },
  {
   "cell_type": "code",
   "execution_count": 42,
   "metadata": {},
   "outputs": [
    {
     "name": "stdout",
     "output_type": "stream",
     "text": [
      "No se puede apagar el motor. El motor ya está apagado.\n"
     ]
    }
   ],
   "source": [
    "bmw.apagar()"
   ]
  },
  {
   "cell_type": "code",
   "execution_count": null,
   "metadata": {},
   "outputs": [],
   "source": [
    "#Try all the combinations you like and see if it works!\n",
    "\n",
    "#bmw.info()\n",
    "#bmw.encender()\n",
    "#bmw.acelerar(5)\n",
    "#bmw.reducir(4)\n",
    "#bmw.info()\n",
    "#bmw.apagar()\n",
    "#bmw.frenar()\n",
    "#bmw.apagar()"
   ]
  },
  {
   "cell_type": "markdown",
   "metadata": {},
   "source": [
    "### 1.4 Maximum Speed\n",
    "\n",
    "We will now set a new parameter the user should introduce: `max_speed`. If the user do NOT set this parameter, the **default value** should be 120\n",
    "\n",
    "(the code should work for both Car(\"blue\", \"FIAT\") and Car(\"purple\", \"Mini\", 130) )\n",
    "\n",
    "The only thing that must change from the previous code is that your speed can NEVER be over the limit of the car. If you try to accelerate more, the speed of the car will be max_speed. "
   ]
  },
  {
   "cell_type": "code",
   "execution_count": 43,
   "metadata": {},
   "outputs": [],
   "source": [
    "# Your Code here: \n",
    "\n",
    "class Car:\n",
    "    def __init__(self, color, brand, num_of_wheels=4, max_speed=120):\n",
    "       self.color=color.lower()\n",
    "       self.brand=brand.lower()\n",
    "       self.num_of_wheels=4\n",
    "       self.engine=\"OFF\"\n",
    "       self.speed=0\n",
    "       self.max_speed=max_speed\n",
    "\n",
    "    def info(self):\n",
    "        print(f\"Color: {self.color}\")\n",
    "        print(f\"Brand {self.brand}\")\n",
    "        print(f\"Number of wheels: {self.num_of_wheels}\")\n",
    "        print(f\"Engine: {self.engine}\")\n",
    "        print(f\"Velocidad actual: {self.speed}\")\n",
    "        print(f\"La velocidad máxima es de: {self.max_speed}\")\n",
    "\n",
    "    def encender(self):\n",
    "        if self.engine == \"OFF\":\n",
    "            self.engine = \"ON\"\n",
    "            print(\"Car engine is now ON.\")\n",
    "        else:\n",
    "            print(\"No se puede encender el motor. El motor ya está encendido.\")\n",
    "\n",
    "    def apagar(self):\n",
    "        if self.engine == \"ON\":\n",
    "            self.engine = \"OFF\"\n",
    "            print(\"Car engine is now OFF.\")\n",
    "            self.speed = 0\n",
    "        else:\n",
    "            print(\"No se puede apagar el motor. El motor ya está apagado.\")\n",
    "\n",
    "    def acelerar(self, number):\n",
    "        self.speed+=number\n",
    "        if self.speed > self.max_speed:\n",
    "            self.speed = self.max_speed\n",
    "        print(f\"Has acelerado! Tu velocidad actual es de: {self.speed}\")\n",
    "\n",
    "    def reducir(self, number):\n",
    "        self.speed-=number\n",
    "        if self.speed < 0:\n",
    "            self.speed = 0\n",
    "        print(f\"Has reducido! Tu velocidad actual es de: {self.speed}\")\n",
    "\n",
    "    def frenar(self):\n",
    "        self.speed=0\n",
    "        print(f\"Has frenado! Tu velocidad actual es de: {self.speed}\")"
   ]
  },
  {
   "cell_type": "code",
   "execution_count": 44,
   "metadata": {},
   "outputs": [],
   "source": [
    "#try the code here: \n",
    "fiat=Car(\"red\", \"Fiat\", 130)\n"
   ]
  },
  {
   "cell_type": "code",
   "execution_count": 45,
   "metadata": {},
   "outputs": [
    {
     "name": "stdout",
     "output_type": "stream",
     "text": [
      "Color: red\n",
      "Brand fiat\n",
      "Number of wheels: 4\n",
      "Engine: OFF\n",
      "Velocidad actual: 0\n",
      "La velocidad máxima es de: 120\n"
     ]
    }
   ],
   "source": [
    "fiat.info()"
   ]
  },
  {
   "cell_type": "code",
   "execution_count": 47,
   "metadata": {},
   "outputs": [
    {
     "name": "stdout",
     "output_type": "stream",
     "text": [
      "Has acelerado! Tu velocidad actual es de: 120\n"
     ]
    }
   ],
   "source": [
    "fiat.acelerar(130)"
   ]
  },
  {
   "cell_type": "markdown",
   "metadata": {},
   "source": [
    "## Exercise 2: Inheritance\n",
    "\n",
    "Let's recover this example set in our class: "
   ]
  },
  {
   "cell_type": "code",
   "execution_count": null,
   "metadata": {},
   "outputs": [],
   "source": [
    "class Staff ():\n",
    "        \n",
    "    def __init__ (self, name, fname):\n",
    "        self.name = name.capitalize()\n",
    "        self.fname = fname\n",
    "        \n",
    "        # Default\n",
    "        self.time_off = 20\n",
    "        \n",
    "        #Default: as a result\n",
    "        self.email = self.name.lower() + \".\" + self.fname.lower() + \"@ironhack.com\"\n",
    "        \n",
    "        self.hobbies = []\n",
    "        \n",
    "    \n",
    "    def introduce (self):\n",
    "        return f\"Hello, my name is {self.name}!\"\n",
    "    \n",
    "    def takes_days_off (self, number):\n",
    "        if self.time_off-number >= 0:\n",
    "            self.time_off -= number\n",
    "            return f\"Now you have {self.time_off} days off available\"\n",
    "        else:\n",
    "            return f\"Sorry, you ran out of days. Your total time_off available is {self.time_off}\"\n",
    "    \n",
    "    def hobbies_function (self, *hob): #passing an optional argument\n",
    "        if hob:\n",
    "            for i in hob:\n",
    "                self.hobbies.append(i)\n",
    "                print(f\"We added: {self.hobbies[-1]}\")\n",
    "            return self.hobbies_function()\n",
    "        else:\n",
    "            new = \", \".join([i for i in self.hobbies])\n",
    "            return f\"My hobbies are: {new}\"\n"
   ]
  },
  {
   "cell_type": "markdown",
   "metadata": {},
   "source": [
    "### 2.1 Class Variable\n",
    "\n",
    "Create a class variable (attribute shared by everybody in the organization). This class variable will `company`, and it should be always **Ironhack**"
   ]
  },
  {
   "cell_type": "code",
   "execution_count": 53,
   "metadata": {},
   "outputs": [],
   "source": [
    "# Your code here:\n",
    "class Staff ():\n",
    "    company=\"Ironhack\"    \n",
    "    def __init__ (self, name, fname):\n",
    "        self.name = name.capitalize()\n",
    "        self.fname = fname\n",
    "        \n",
    "        # Default\n",
    "        self.time_off = 20\n",
    "        \n",
    "        #Default: as a result\n",
    "        self.email = self.name.lower() + \".\" + self.fname.lower() + \"@ironhack.com\"\n",
    "        \n",
    "        self.hobbies = []\n",
    "        \n",
    "    \n",
    "    def introduce (self):\n",
    "        return f\"Hello, my name is {self.name}!\"\n",
    "    \n",
    "    def takes_days_off (self, number):\n",
    "        if self.time_off-number >= 0:\n",
    "            self.time_off -= number\n",
    "            return f\"Now you have {self.time_off} days off available\"\n",
    "        else:\n",
    "            return f\"Sorry, you ran out of days. Your total time_off available is {self.time_off}\"\n",
    "    \n",
    "    def hobbies_function (self, *hob): #passing an optional argument\n",
    "        if hob:\n",
    "            for i in hob:\n",
    "                self.hobbies.append(i)\n",
    "                print(f\"We added: {self.hobbies[-1]}\")\n",
    "                return self.hobbies_function()\n",
    "        else:\n",
    "            new = \", \".join([i for i in self.hobbies])\n",
    "            return f\"My hobbies are: {new}\"\n",
    "        \n",
    "    def info(self):\n",
    "        print(f\"Name: {self.name}\")\n",
    "        print(f\"Surname: {self.fname}\")\n",
    "        print(f\"Company: {self.company}\")"
   ]
  },
  {
   "cell_type": "code",
   "execution_count": 54,
   "metadata": {},
   "outputs": [],
   "source": [
    "david=Staff(\"david\", \"magre\")"
   ]
  },
  {
   "cell_type": "code",
   "execution_count": 55,
   "metadata": {},
   "outputs": [
    {
     "name": "stdout",
     "output_type": "stream",
     "text": [
      "Name: David\n",
      "Surname: magre\n",
      "Company: Ironhack\n"
     ]
    }
   ],
   "source": [
    "david.info()"
   ]
  },
  {
   "cell_type": "markdown",
   "metadata": {},
   "source": [
    "### 1.2 Info Method\n",
    "\n",
    "As in the previous exercise, set a method to know all the information related with each person: Name, Surname, Time_Off Available, Mail, hobbies and Company"
   ]
  },
  {
   "cell_type": "code",
   "execution_count": 56,
   "metadata": {},
   "outputs": [],
   "source": [
    "# Your code here\n",
    "class Staff ():\n",
    "    company=\"Ironhack\"    \n",
    "    def __init__ (self, name, fname):\n",
    "        self.name = name.capitalize()\n",
    "        self.fname = fname\n",
    "        \n",
    "        # Default\n",
    "        self.time_off = 20\n",
    "        \n",
    "        #Default: as a result\n",
    "        self.email = self.name.lower() + \".\" + self.fname.lower() + \"@ironhack.com\"\n",
    "        \n",
    "        self.hobbies = []\n",
    "        \n",
    "    \n",
    "    def introduce (self):\n",
    "        return f\"Hello, my name is {self.name}!\"\n",
    "    \n",
    "    def takes_days_off (self, number):\n",
    "        if self.time_off-number >= 0:\n",
    "            self.time_off -= number\n",
    "            return f\"Now you have {self.time_off} days off available\"\n",
    "        else:\n",
    "            return f\"Sorry, you ran out of days. Your total time_off available is {self.time_off}\"\n",
    "    \n",
    "    def hobbies_function (self, *hob): #passing an optional argument\n",
    "        if hob:\n",
    "            for i in hob:\n",
    "                self.hobbies.append(i)\n",
    "                print(f\"We added: {self.hobbies[-1]}\")\n",
    "                return self.hobbies_function()\n",
    "        else:\n",
    "            new = \", \".join([i for i in self.hobbies])\n",
    "            return f\"My hobbies are: {new}\"\n",
    "        \n",
    "    def info(self):\n",
    "        print(f\"Name: {self.name}\")\n",
    "        print(f\"Surname: {self.fname}\")\n",
    "        print(f\"Company: {self.company}\")\n",
    "        print(f\"Email: {self.email}\")\n",
    "        print(f\"Days available: {self.time_off}\")\n",
    "        print(f\"Favourite hobbies: {self.hobbies}\")"
   ]
  },
  {
   "cell_type": "code",
   "execution_count": null,
   "metadata": {},
   "outputs": [],
   "source": [
    "# Try it here!!\n",
    "\n",
    "bestteacherever=Staff(\"Gonzalo\", \"Quesada\")\n",
    "bestteacherever.hobbies_function(\"Basketball\", \"Board Games\", \"Coding\")\n",
    "bestteacherever.takes_days_off(5)\n",
    "bestteacherever.info()"
   ]
  },
  {
   "cell_type": "code",
   "execution_count": 57,
   "metadata": {},
   "outputs": [],
   "source": [
    "bestteacherever=Staff(\"Gonzalo\", \"Quesada\")"
   ]
  },
  {
   "cell_type": "code",
   "execution_count": 58,
   "metadata": {},
   "outputs": [
    {
     "name": "stdout",
     "output_type": "stream",
     "text": [
      "We added: Basketball\n"
     ]
    },
    {
     "data": {
      "text/plain": [
       "'My hobbies are: Basketball'"
      ]
     },
     "execution_count": 58,
     "metadata": {},
     "output_type": "execute_result"
    }
   ],
   "source": [
    "bestteacherever.hobbies_function(\"Basketball\")"
   ]
  },
  {
   "cell_type": "code",
   "execution_count": 59,
   "metadata": {},
   "outputs": [
    {
     "name": "stdout",
     "output_type": "stream",
     "text": [
      "We added: Board Games\n"
     ]
    },
    {
     "data": {
      "text/plain": [
       "'My hobbies are: Basketball, Board Games'"
      ]
     },
     "execution_count": 59,
     "metadata": {},
     "output_type": "execute_result"
    }
   ],
   "source": [
    "bestteacherever.hobbies_function(\"Board Games\")"
   ]
  },
  {
   "cell_type": "code",
   "execution_count": 60,
   "metadata": {},
   "outputs": [
    {
     "name": "stdout",
     "output_type": "stream",
     "text": [
      "We added: Coding\n"
     ]
    },
    {
     "data": {
      "text/plain": [
       "'My hobbies are: Basketball, Board Games, Coding'"
      ]
     },
     "execution_count": 60,
     "metadata": {},
     "output_type": "execute_result"
    }
   ],
   "source": [
    "bestteacherever.hobbies_function(\"Coding\")"
   ]
  },
  {
   "cell_type": "code",
   "execution_count": 61,
   "metadata": {},
   "outputs": [
    {
     "data": {
      "text/plain": [
       "'Now you have 15 days off available'"
      ]
     },
     "execution_count": 61,
     "metadata": {},
     "output_type": "execute_result"
    }
   ],
   "source": [
    "bestteacherever.takes_days_off(5)"
   ]
  },
  {
   "cell_type": "code",
   "execution_count": 62,
   "metadata": {},
   "outputs": [
    {
     "name": "stdout",
     "output_type": "stream",
     "text": [
      "Name: Gonzalo\n",
      "Surname: Quesada\n",
      "Company: Ironhack\n",
      "Email: gonzalo.quesada@ironhack.com\n",
      "Days available: 15\n",
      "Favourite hobbies: ['Basketball', 'Board Games', 'Coding']\n"
     ]
    }
   ],
   "source": [
    "bestteacherever.info()"
   ]
  },
  {
   "cell_type": "markdown",
   "metadata": {},
   "source": [
    "### 1.3 Inheritance\n",
    "\n",
    "Now suppose the Marketing department works differently, but inside the organization. In other words, Staff will be the Parent Class and Marketing the Child. The differences are: \n",
    "\n",
    "- The mail must end with .mktg (for example, instead of laura.molas@ironhack.com it should be laura.molas.mktg@ironhack.com)\n",
    "- The total days they have of time_off is 30 (Lucky them...)\n",
    "- In addition, in the `introduce` method, they should salute the same as in Staff BUT adding that they are from the Marketing dpt. "
   ]
  },
  {
   "cell_type": "code",
   "execution_count": 68,
   "metadata": {},
   "outputs": [],
   "source": [
    "# Your code here: \n",
    "class Marketing(Staff):\n",
    "    def __init__(self, name, fname):\n",
    "        super().__init__(name, fname) #todo lo referente al atributo name queremos que venga dado desde la parent.\n",
    "    \n",
    "        self.time_off = 30\n",
    "        \n",
    "        self.email = self.name.lower() + \".\" + self.fname.lower() + \".mktg@ironhack.com\"\n",
    "\n",
    "    def introduce (self):\n",
    "        return f\"Hello, my name is {self.name} and I work in the Marketing Department!\"\n",
    "\n",
    "    def info(self):\n",
    "        print(f\"Name: {self.name}\")\n",
    "        print(f\"Surname: {self.fname}\")\n",
    "        print(f\"Company: {self.company}\")\n",
    "        print(f\"Email: {self.email}\")\n",
    "        print(f\"Days available: {self.time_off}\")\n",
    "        print(f\"Favourite hobbies: {self.hobbies}\")"
   ]
  },
  {
   "cell_type": "code",
   "execution_count": 69,
   "metadata": {},
   "outputs": [
    {
     "name": "stdout",
     "output_type": "stream",
     "text": [
      "We added: Photography\n",
      "Name: Laura\n",
      "Surname: Molas\n",
      "Company: Ironhack\n",
      "Email: laura.molas.mktg@ironhack.com\n",
      "Days available: 30\n",
      "Favourite hobbies: ['Photography']\n"
     ]
    },
    {
     "data": {
      "text/plain": [
       "'Hello, my name is Laura and I work in the Marketing Department!'"
      ]
     },
     "execution_count": 69,
     "metadata": {},
     "output_type": "execute_result"
    }
   ],
   "source": [
    "#Try if your Class is well defined with this example: \n",
    "mktg=Marketing(\"Laura\", \"Molas\")\n",
    "mktg.hobbies_function(\"Photography\", \"Animals\")\n",
    "mktg.info()\n",
    "mktg.introduce()"
   ]
  }
 ],
 "metadata": {
  "kernelspec": {
   "display_name": "local",
   "language": "python",
   "name": "python3"
  },
  "language_info": {
   "codemirror_mode": {
    "name": "ipython",
    "version": 3
   },
   "file_extension": ".py",
   "mimetype": "text/x-python",
   "name": "python",
   "nbconvert_exporter": "python",
   "pygments_lexer": "ipython3",
   "version": "3.11.7"
  }
 },
 "nbformat": 4,
 "nbformat_minor": 2
}
